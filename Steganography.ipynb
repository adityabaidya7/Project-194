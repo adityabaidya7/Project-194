{
 "cells": [
  {
   "cell_type": "code",
   "execution_count": 1,
   "id": "eef9bb14-c81d-44af-b951-ca77c26ce6f1",
   "metadata": {},
   "outputs": [
    {
     "name": "stdin",
     "output_type": "stream",
     "text": [
      "Enter secret message: my name\n",
      "Enter a passcode: 12345\n",
      "Enter passcode for Decryption 12345\n"
     ]
    },
    {
     "name": "stdout",
     "output_type": "stream",
     "text": [
      "Decryption message: my name\n"
     ]
    }
   ],
   "source": [
    "import cv2\n",
    "import os\n",
    "import string\n",
    "\n",
    "img = cv2.imread(\"Downloads/mypic.jpg\") # Replace with the correct image path#image\n",
    "\n",
    "msg = input(\"Enter secret message:\")\n",
    "password = input(\"Enter a passcode:\")\n",
    "\n",
    "d = {}\n",
    "c = {}\n",
    "\n",
    "for i in range(255):\n",
    "    d[chr(i)] = i\n",
    "    c[i] = chr(i)\n",
    "\n",
    "m = 0\n",
    "n = 0\n",
    "z = 0\n",
    "\n",
    "for i in range(len(msg)):\n",
    "    img[n, m, z] = d[msg[i]]\n",
    "    n = n + 1\n",
    "    m = m + 1\n",
    "    z = (z + 1) % 3\n",
    "\n",
    "cv2.imwrite(\"encryptedImage.jpg\", img)\n",
    "os.system(\"start encryptedImage.jpg\")  # Use 'start' to open the image on Windows\n",
    "\n",
    "message = \"\"\n",
    "n = 0\n",
    "m = 0\n",
    "z = 0\n",
    "\n",
    "pas = input(\"Enter passcode for Decryption\")\n",
    "if password == pas:\n",
    "    for i in range(len(msg)):\n",
    "        message = message + c[img[n, m, z]]\n",
    "        n = n + 1\n",
    "        m = m + 1\n",
    "        z = (z + 1) % 3\n",
    "    print(\"Decryption message:\", message)\n",
    "else:\n",
    "    print(\"YOU ARE NOT auth\")"
   ]
  },
  {
   "cell_type": "code",
   "execution_count": null,
   "id": "43b6a7fe-3633-4b9f-9986-9797b156d20f",
   "metadata": {},
   "outputs": [],
   "source": []
  }
 ],
 "metadata": {
  "kernelspec": {
   "display_name": "Python 3 (ipykernel)",
   "language": "python",
   "name": "python3"
  },
  "language_info": {
   "codemirror_mode": {
    "name": "ipython",
    "version": 3
   },
   "file_extension": ".py",
   "mimetype": "text/x-python",
   "name": "python",
   "nbconvert_exporter": "python",
   "pygments_lexer": "ipython3",
   "version": "3.12.9"
  }
 },
 "nbformat": 4,
 "nbformat_minor": 5
}
